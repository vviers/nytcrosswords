{
 "cells": [
  {
   "cell_type": "code",
   "execution_count": 9,
   "metadata": {},
   "outputs": [],
   "source": [
    "inp = \"1999/10/19\""
   ]
  },
  {
   "cell_type": "code",
   "execution_count": 10,
   "metadata": {},
   "outputs": [
    {
     "output_type": "stream",
     "name": "stdout",
     "text": "ok\n"
    }
   ],
   "source": [
    "import re\n",
    "datefmt = re.compile(r\"(\\d{4})\\/(\\d{2})\\/(\\d{2})\")\n",
    "\n",
    "if datefmt.match(inp):\n",
    "    print(\"ok\")"
   ]
  },
  {
   "cell_type": "code",
   "execution_count": 11,
   "metadata": {},
   "outputs": [],
   "source": [
    "import logging\n",
    "import re\n",
    "import requests\n",
    "import pandas as pd\n",
    "\n",
    "class NYTGrid:\n",
    "    \n",
    "    BASE_URL = \"https://raw.githubusercontent.com/doshea/nyt_crosswords/master/\"\n",
    "    \n",
    "    def __init__(self, date):\n",
    "        datefmt = re.compile(r\"(\\d{4})\\/(\\d{2})\\/(\\d{2})\")\n",
    "        if not datefmt.match(date):\n",
    "            raise ValueError(\"date must be in the format YYYY/MM/DD\")\n",
    "        ymd = date.split(\"/\")\n",
    "        self._year = ymd[0]\n",
    "        self._month = ymd[1]\n",
    "        self._day = ymd[2]\n",
    "        self._raw_data = None\n",
    "        self.title = None\n",
    "        self.author = None\n",
    "        self.answers = None\n",
    "        self.clues = None\n",
    "        \n",
    "        \n",
    "    def fetch_data(self):\n",
    "        \"\"\"\n",
    "            Retrieve data from GitHub repo.\n",
    "        \"\"\"\n",
    "        try:\n",
    "            target = f\"{self.BASE_URL}{self._year}/{self._month}/{self._day}.json\"\n",
    "            r = requests.get(target)\n",
    "            r.raise_for_status()\n",
    "        except requests.exceptions.HTTPError as e:\n",
    "            logging.error(f\"Could not fetch data for date {self._year}/{self._month}/{self._day}. {e}\")\n",
    "            return\n",
    "        self._raw_data = r.json()\n",
    "        self.title = self._raw_data[\"title\"]\n",
    "        self.author = self._raw_data[\"author\"]\n",
    "        self.size = self._raw_data[\"size\"]\n",
    "        self.answers = self._raw_data[\"answers\"]\n",
    "        self.clues = self._raw_data[\"clues\"]\n",
    "        \n",
    "    def __len__(self):\n",
    "        \"\"\"\n",
    "            This assumes that all grids are square.\n",
    "        \"\"\"\n",
    "        return self.size[\"cols\"]\n",
    "    \n",
    "    def __str__(self):\n",
    "        out = \"{:^50}\".format(self.title)\n",
    "        out += \"\\n\"\n",
    "        for i in range(self.size[\"rows\"]):\n",
    "            start = self.size[\"cols\"]*(i)\n",
    "            end = self.size[\"cols\"]*(i+1)\n",
    "            out += \"\\n\"\n",
    "            out+= (\" | \".join(self._raw_data[\"grid\"][start:end]).replace(\".\", \" \"))\n",
    "        return out\n",
    "\n",
    "    def print_question_answers(self, orientation: str = \"across\"):\n",
    "        for question, answer in zip(self.clues[orientation], self.answers[orientation]):\n",
    "            print(f\"{question.ljust(50)}: {answer.rjust(20)}\")\n",
    "\n",
    "    def to_df(self):\n",
    "        \"\"\"\n",
    "            Return a pandas df with columns \"clue\" and \"answer\"\n",
    "        \"\"\"\n",
    "        clues = self.clues[\"across\"].copy()\n",
    "        clues.extend(self.clues[\"down\"])\n",
    "        answers = self.answers[\"across\"].copy()\n",
    "        answers.extend(self.clues[\"down\"])\n",
    "        return pd.DataFrame({\"clue\": clues, \"answer\": answers})"
   ]
  },
  {
   "cell_type": "code",
   "execution_count": 12,
   "metadata": {},
   "outputs": [],
   "source": [
    "g = NYTGrid(\"1996/10/28\")"
   ]
  },
  {
   "cell_type": "code",
   "execution_count": 13,
   "metadata": {},
   "outputs": [],
   "source": [
    "g.fetch_data()"
   ]
  },
  {
   "cell_type": "code",
   "execution_count": 14,
   "metadata": {},
   "outputs": [
    {
     "output_type": "stream",
     "name": "stdout",
     "text": "NY TIMES, MON, OCT 28, 1996            \n\nW | A | R | M |   | F | O | R | M | A |   | O | D | D | S\nA | L | O | E |   | O | N | E | A | L |   | R | I | O | T\nS | T | A | T | U | E | O | F | L | I | B | E | R | T | Y\nH | O | N | O | R |   |   |   |   | C | L | O | T | H | E\n  |   |   | O | G | R | E |   | C | I | A |   |   |   |  \nE | S | C |   | E | M | M | A | L | A | Z | A | R | U | S\nS | H | A | M |   | S | O | M | E |   | E | R | A | S | E\nS | I | R | E | N |   | T | E | A |   | D | O | Z | E | R\nE | N | E | R | O |   | I | N | N | S |   | N | E | R | F\nN | E | W | C | O | L | O | S | S | U | S |   | S | S | S\n  |   |   |   | D | E | N |   | E | M | I | T |   |   |  \nO | T | O | O | L | E |   |   |   |   | Z | O | W | I | E\nG | R | O | V | E | R | C | L | E | V | E | L | A | N | D\nL | A | Z | E |   | E | P | O | X | Y |   | L | A | K | E\nE | Y | E | R |   | D | A | N | T | E |   | S | C | A | N\n"
    }
   ],
   "source": [
    "print(g)"
   ]
  },
  {
   "cell_type": "code",
   "execution_count": 15,
   "metadata": {},
   "outputs": [
    {
     "output_type": "stream",
     "name": "stdout",
     "text": "1. Friendly                                       :                 WARM\n5. Pro ___ (perfunctory)                          :                FORMA\n10. Vegas calculation                             :                 ODDS\n14. Lip balm ingredient                           :                 ALOE\n15. Ryan or Tatum                                 :                ONEAL\n16. Urban unrest                                  :                 RIOT\n17. National monument dedicated 10/28/1886        :      STATUEOFLIBERTY\n20. Show respect for                              :                HONOR\n21. Dress                                         :               CLOTHE\n22. Fairy tale villain                            :                 OGRE\n25. Spies' org.                                   :                  CIA\n26. PC key                                        :                  ESC\n29. 47-Across poet                                :          EMMALAZARUS\n35. Farce                                         :                 SHAM\n37. \"___ Like It Hot\"                             :                 SOME\n38. Clear the blackboard                          :                ERASE\n39. Ambulance wail                                :                SIREN\n41. Coffee alternative                            :                  TEA\n42. Catnapper                                     :                DOZER\n43. First month of the ano                        :                ENERO\n44. Bed-and-breakfasts                            :                 INNS\n46. Kids' indoor ball material                    :                 NERF\n47. Poem inscribed on 17-Across, with \"The\"       :          NEWCOLOSSUS\n50. Draft org.                                    :                  SSS\n51. Place for thieves                             :                  DEN\n52. Send out                                      :                 EMIT\n54. Lawrence of Arabia portrayer                  :               OTOOLE\n58. Cry of delight                                :                ZOWIE\n62. President who dedicated 17-Across             :      GROVERCLEVELAND\n67. Take it easy                                  :                 LAZE\n68. Adhesive resin                                :                EPOXY\n69. Huron, for one                                :                 LAKE\n70. Watcher                                       :                 EYER\n71. \"The Divine Comedy\" poet                      :                DANTE\n72. Examine closely                               :                 SCAN\n1. Do the dishes                                  :                 WASH\n2. Palo ___, Calif.                               :                 ALTO\n3. Horse with a gray-sprinkled coat               :                 ROAN\n4. \"Ditto\"                                        :                METOO\n5. Enemy                                          :                  FOE\n6. Songstress Yoko                                :                  ONO\n7. N.B.A. official                                :                  REF\n8. ___ de mer (seasickness)                       :                  MAL\n9. Silverstone of \"Clueless\"                      :               ALICIA\n10. Lunch box treat                               :                 OREO\n11. Grime                                         :                 DIRT\n12. Biblical verb                                 :                 DOTH\n13. Eye inflammation                              :                 STYE\n18. Prod                                          :                 URGE\n19. Burned brightly                               :               BLAZED\n23. Apt. divisions                                :                  RMS\n24. Strong feeling                                :              EMOTION\n25. Make pure                                     :              CLEANSE\n26. German city north of Cologne                  :                ESSEN\n27. \"Rise and ___!\"                               :                SHINE\n28. Seven-time A.L. batting champ Rod             :                CAREW\n30. Prayer responses                              :                AMENS\n31. Elvis ___ Presley                             :                 ARON\n32. Utterly destroys                              :                RAZES\n33. Computer operators                            :                USERS\n34. Feudal workers                                :                SERFS\n36. First planet: Abbr.                           :                 MERC\n40. Piece of pasta                                :               NOODLE\n45. Total                                         :                  SUM\n48. Gave a longing look                           :               LEERED\n49. Small, medium or large                        :                 SIZE\n53. Turnpike tabs                                 :                TOLLS\n54. Give a longing look                           :                 OGLE\n55. Waiter's load                                 :                 TRAY\n56. Seep out                                      :                 OOZE\n57. Finished                                      :                 OVER\n59. W.W. II females' service grp.                 :                 WAAC\n60. Durante's \"___ Dinka Doo\"                     :                 INKA\n61. Idyllic place                                 :                 EDEN\n63. Tax return preparer, for short                :                  CPA\n64. Actor Chaney                                  :                  LON\n65. Abbr. after a telephone number                :                  EXT\n66. Eustacia of \"The Return of the Native\"        :                  VYE\n"
    },
    {
     "output_type": "execute_result",
     "data": {
      "text/plain": "(None, None)"
     },
     "metadata": {},
     "execution_count": 15
    }
   ],
   "source": [
    "g.print_question_answers(), g.print_question_answers(\"down\")"
   ]
  },
  {
   "cell_type": "code",
   "execution_count": 16,
   "metadata": {},
   "outputs": [
    {
     "output_type": "execute_result",
     "data": {
      "text/plain": "                                          clue  \\\n0                                  1. Friendly   \n1                     5. Pro ___ (perfunctory)   \n2                        10. Vegas calculation   \n3                      14. Lip balm ingredient   \n4                            15. Ryan or Tatum   \n..                                         ...   \n73                           61. Idyllic place   \n74          63. Tax return preparer, for short   \n75                            64. Actor Chaney   \n76          65. Abbr. after a telephone number   \n77  66. Eustacia of \"The Return of the Native\"   \n\n                                        answer  \n0                                         WARM  \n1                                        FORMA  \n2                                         ODDS  \n3                                         ALOE  \n4                                        ONEAL  \n..                                         ...  \n73                           61. Idyllic place  \n74          63. Tax return preparer, for short  \n75                            64. Actor Chaney  \n76          65. Abbr. after a telephone number  \n77  66. Eustacia of \"The Return of the Native\"  \n\n[78 rows x 2 columns]",
      "text/html": "<div>\n<style scoped>\n    .dataframe tbody tr th:only-of-type {\n        vertical-align: middle;\n    }\n\n    .dataframe tbody tr th {\n        vertical-align: top;\n    }\n\n    .dataframe thead th {\n        text-align: right;\n    }\n</style>\n<table border=\"1\" class=\"dataframe\">\n  <thead>\n    <tr style=\"text-align: right;\">\n      <th></th>\n      <th>clue</th>\n      <th>answer</th>\n    </tr>\n  </thead>\n  <tbody>\n    <tr>\n      <th>0</th>\n      <td>1. Friendly</td>\n      <td>WARM</td>\n    </tr>\n    <tr>\n      <th>1</th>\n      <td>5. Pro ___ (perfunctory)</td>\n      <td>FORMA</td>\n    </tr>\n    <tr>\n      <th>2</th>\n      <td>10. Vegas calculation</td>\n      <td>ODDS</td>\n    </tr>\n    <tr>\n      <th>3</th>\n      <td>14. Lip balm ingredient</td>\n      <td>ALOE</td>\n    </tr>\n    <tr>\n      <th>4</th>\n      <td>15. Ryan or Tatum</td>\n      <td>ONEAL</td>\n    </tr>\n    <tr>\n      <th>...</th>\n      <td>...</td>\n      <td>...</td>\n    </tr>\n    <tr>\n      <th>73</th>\n      <td>61. Idyllic place</td>\n      <td>61. Idyllic place</td>\n    </tr>\n    <tr>\n      <th>74</th>\n      <td>63. Tax return preparer, for short</td>\n      <td>63. Tax return preparer, for short</td>\n    </tr>\n    <tr>\n      <th>75</th>\n      <td>64. Actor Chaney</td>\n      <td>64. Actor Chaney</td>\n    </tr>\n    <tr>\n      <th>76</th>\n      <td>65. Abbr. after a telephone number</td>\n      <td>65. Abbr. after a telephone number</td>\n    </tr>\n    <tr>\n      <th>77</th>\n      <td>66. Eustacia of \"The Return of the Native\"</td>\n      <td>66. Eustacia of \"The Return of the Native\"</td>\n    </tr>\n  </tbody>\n</table>\n<p>78 rows × 2 columns</p>\n</div>"
     },
     "metadata": {},
     "execution_count": 16
    }
   ],
   "source": [
    "clues = g.clues[\"across\"].copy()\n",
    "clues.extend(g.clues[\"down\"])\n",
    "answers = g.answers[\"across\"].copy()\n",
    "answers.extend(g.clues[\"down\"])\n",
    "pd.DataFrame({\"clue\": clues, \"answer\": answers})"
   ]
  },
  {
   "cell_type": "code",
   "execution_count": 18,
   "metadata": {},
   "outputs": [
    {
     "output_type": "execute_result",
     "data": {
      "text/plain": "{'across': ['1. Friendly',\n  '5. Pro ___ (perfunctory)',\n  '10. Vegas calculation',\n  '14. Lip balm ingredient',\n  '15. Ryan or Tatum',\n  '16. Urban unrest',\n  '17. National monument dedicated 10/28/1886',\n  '20. Show respect for',\n  '21. Dress',\n  '22. Fairy tale villain',\n  \"25. Spies' org.\",\n  '26. PC key',\n  '29. 47-Across poet',\n  '35. Farce',\n  '37. \"___ Like It Hot\"',\n  '38. Clear the blackboard',\n  '39. Ambulance wail',\n  '41. Coffee alternative',\n  '42. Catnapper',\n  '43. First month of the ano',\n  '44. Bed-and-breakfasts',\n  \"46. Kids' indoor ball material\",\n  '47. Poem inscribed on 17-Across, with \"The\"',\n  '50. Draft org.',\n  '51. Place for thieves',\n  '52. Send out',\n  '54. Lawrence of Arabia portrayer',\n  '58. Cry of delight',\n  '62. President who dedicated 17-Across',\n  '67. Take it easy',\n  '68. Adhesive resin',\n  '69. Huron, for one',\n  '70. Watcher',\n  '71. \"The Divine Comedy\" poet',\n  '72. Examine closely'],\n 'down': ['1. Do the dishes',\n  '2. Palo ___, Calif.',\n  '3. Horse with a gray-sprinkled coat',\n  '4. \"Ditto\"',\n  '5. Enemy',\n  '6. Songstress Yoko',\n  '7. N.B.A. official',\n  '8. ___ de mer (seasickness)',\n  '9. Silverstone of \"Clueless\"',\n  '10. Lunch box treat',\n  '11. Grime',\n  '12. Biblical verb',\n  '13. Eye inflammation',\n  '18. Prod',\n  '19. Burned brightly',\n  '23. Apt. divisions',\n  '24. Strong feeling',\n  '25. Make pure',\n  '26. German city north of Cologne',\n  '27. \"Rise and ___!\"',\n  '28. Seven-time A.L. batting champ Rod',\n  '30. Prayer responses',\n  '31. Elvis ___ Presley',\n  '32. Utterly destroys',\n  '33. Computer operators',\n  '34. Feudal workers',\n  '36. First planet: Abbr.',\n  '40. Piece of pasta',\n  '45. Total',\n  '48. Gave a longing look',\n  '49. Small, medium or large',\n  '53. Turnpike tabs',\n  '54. Give a longing look',\n  \"55. Waiter's load\",\n  '56. Seep out',\n  '57. Finished',\n  \"59. W.W. II females' service grp.\",\n  '60. Durante\\'s \"___ Dinka Doo\"',\n  '61. Idyllic place',\n  '63. Tax return preparer, for short',\n  '64. Actor Chaney',\n  '65. Abbr. after a telephone number',\n  '66. Eustacia of \"The Return of the Native\"']}"
     },
     "metadata": {},
     "execution_count": 18
    }
   ],
   "source": []
  },
  {
   "cell_type": "code",
   "execution_count": null,
   "metadata": {},
   "outputs": [],
   "source": []
  }
 ],
 "metadata": {
  "kernelspec": {
   "display_name": "Python 3.7.7 64-bit ('nytanalysis': venv)",
   "language": "python",
   "name": "python37764bitnytanalysisvenv83910980e23c4415b4ce5d2682e21d00"
  },
  "language_info": {
   "codemirror_mode": {
    "name": "ipython",
    "version": 3
   },
   "file_extension": ".py",
   "mimetype": "text/x-python",
   "name": "python",
   "nbconvert_exporter": "python",
   "pygments_lexer": "ipython3",
   "version": "3.7.7-final"
  }
 },
 "nbformat": 4,
 "nbformat_minor": 4
}