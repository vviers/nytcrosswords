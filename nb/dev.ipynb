{
 "cells": [
  {
   "cell_type": "code",
   "execution_count": 1,
   "metadata": {},
   "outputs": [],
   "source": [
    "inp = \"1999/10/19\""
   ]
  },
  {
   "cell_type": "code",
   "execution_count": 2,
   "metadata": {},
   "outputs": [
    {
     "output_type": "stream",
     "name": "stdout",
     "text": "ok\n"
    }
   ],
   "source": [
    "import re\n",
    "datefmt = re.compile(r\"(\\d{4})\\/(\\d{2})\\/(\\d{2})\")\n",
    "\n",
    "if datefmt.match(inp):\n",
    "    print(\"ok\")"
   ]
  },
  {
   "cell_type": "code",
   "execution_count": 3,
   "metadata": {},
   "outputs": [],
   "source": [
    "import logging\n",
    "import re\n",
    "import requests\n",
    "\n",
    "class NYTGrid:\n",
    "    \n",
    "    BASE_URL = \"https://raw.githubusercontent.com/doshea/nyt_crosswords/master/\"\n",
    "    \n",
    "    def __init__(self, date):\n",
    "        datefmt = re.compile(r\"(\\d{4})\\/(\\d{2})\\/(\\d{2})\")\n",
    "        if not datefmt.match(inp):\n",
    "            raise ValueError(\"date must be in the format YYYY/MM/DD\")\n",
    "        ymd = date.split(\"/\")\n",
    "        self._year = ymd[0]\n",
    "        self._month = ymd[1]\n",
    "        self._day = ymd[2]\n",
    "        self._raw_data = None\n",
    "        self.title = None\n",
    "        self.author = None\n",
    "        \n",
    "        \n",
    "        \n",
    "    def fetch_data(self):\n",
    "        target = f\"{self.BASE_URL}{self._year}/{self._month}/{self._day}.json\"\n",
    "        r = requests.get(target)\n",
    "        r.raise_for_status()\n",
    "        self._raw_data = r.json()\n",
    "        self.title = self._raw_data[\"title\"]\n",
    "        self.author = self._raw_data[\"author\"]\n",
    "        self.size = self._raw_data[\"size\"]\n",
    "        \n",
    "    def __len__(self):\n",
    "        return self.size[\"cols\"]\n",
    "    \n",
    "    def __str__(self):\n",
    "        out = \"{:^50}\".format(self.title)\n",
    "        out += \"\\n\"\n",
    "        for i in range(self.size[\"rows\"]):\n",
    "            start = self.size[\"cols\"]*(i)\n",
    "            end = self.size[\"cols\"]*(i+1)\n",
    "            out += \"\\n\"\n",
    "            out+= (\" | \".join(self._raw_data[\"grid\"][start:end]).replace(\".\", \" \"))\n",
    "        return out "
   ]
  },
  {
   "cell_type": "code",
   "execution_count": 4,
   "metadata": {},
   "outputs": [],
   "source": [
    "g = NYTGrid(\"1997/09/28\")"
   ]
  },
  {
   "cell_type": "code",
   "execution_count": 5,
   "metadata": {},
   "outputs": [],
   "source": [
    "g.fetch_data()"
   ]
  },
  {
   "cell_type": "code",
   "execution_count": 6,
   "metadata": {},
   "outputs": [
    {
     "output_type": "stream",
     "name": "stdout",
     "text": "X MARKS THE SPOT                 \n\nA | G | H | A | S |   | F | R | E | D |   | S | A | I | D |   | D | E | F | E | R\nL | E | A | N | T |   | L | O | N | I |   | P | A | T | E |   | A | Q | A | B | A\nI | N | T | E | R | R | U | P | T | S |   | I | N | S | C |   | B | U | R | B | S\nB | E | T | W | E | E | N | Y | O | U | A | N | D | M | E |   | S | I | F | T | S\nI | R | E |   | A | L | G |   |   | S | L | O | W | E | D |   | A | P | R | I | L\nS | A | D |   | M | A | A |   | S | I | T | U |   |   | E | A | T |   | O | D | E\n  |   |   | N | E | X | T | T | O | N | O | T | H | I | N | G |   | A | M | E | S\nT | U | B | E | R |   |   | R | A | G |   |   | A | N | T | E | S | U | P |   |  \nU | T | E | S |   | C | H | I | P |   | A | B | I | E |   |   | O | R | E | S |  \nB | O | Y | S |   | A | U | K |   | S | A | R | K |   | C | A | B | A | R | E | T\nA | P | O |   | A | F | T | E | R | T | H | O | U | G | H | T | S |   | F | D | A\nS | I | N | G | L | E | T |   | A | Y | E | S |   | L | E | O |   | D | E | U | X\n  | A | D | O | S |   |   | P | I | E | D |   | M | A | R | M |   | E | C | C | E\n  |   | Q | U | O | N | D | A | M |   |   | W | A | D |   |   | F | A | T | E | D\nB | O | U | T |   | B | E | S | I | D | E | O | N | E | S | E | L | F |   |   |  \nA | P | E |   | T | A | R |   |   | A | N | O | N |   | P | G | A |   | S | S | S\nZ | E | S | T | S |   | R | E | B | I | N | D |   |   | O | A | T |   | T | A | W\nA | N | T | A | E |   | I | N | B | L | A | C | K | A | N | D | W | H | I | T | E\nA | T | I | L | T |   | E | S | A | I |   | U | N | A | S | S | A | I | L | E | D\nR | O | O | K | S |   | R | U | L | E |   | T | O | R | O |   | R | E | L | E | E\nS | E | N | S | E |   | E | E | L | S |   | S | T | E | R |   | E | D | E | N | S\n"
    }
   ],
   "source": [
    "print(g)"
   ]
  },
  {
   "cell_type": "code",
   "execution_count": 7,
   "metadata": {},
   "outputs": [
    {
     "output_type": "execute_result",
     "data": {
      "text/plain": "dict_keys(['acrossmap', 'admin', 'answers', 'author', 'autowrap', 'bbars', 'circles', 'clues', 'code', 'copyright', 'date', 'dow', 'downmap', 'editor', 'grid', 'gridnums', 'hold', 'id', 'id2', 'interpretcolors', 'jnotes', 'key', 'mini', 'notepad', 'publisher', 'rbars', 'shadecircles', 'size', 'title', 'track', 'type'])"
     },
     "metadata": {},
     "execution_count": 7
    }
   ],
   "source": [
    "dta = g._raw_data\n",
    "dta.keys()"
   ]
  },
  {
   "cell_type": "code",
   "execution_count": null,
   "metadata": {},
   "outputs": [],
   "source": []
  },
  {
   "cell_type": "code",
   "execution_count": null,
   "metadata": {},
   "outputs": [],
   "source": []
  },
  {
   "cell_type": "code",
   "execution_count": null,
   "metadata": {},
   "outputs": [],
   "source": []
  },
  {
   "cell_type": "code",
   "execution_count": null,
   "metadata": {},
   "outputs": [],
   "source": []
  }
 ],
 "metadata": {
  "kernelspec": {
   "display_name": "Python 3.7.7 64-bit ('3.7.7': pyenv)",
   "language": "python",
   "name": "python37764bit377pyenvbd119c7e6d334698ab3ec53daf21f1d6"
  },
  "language_info": {
   "codemirror_mode": {
    "name": "ipython",
    "version": 3
   },
   "file_extension": ".py",
   "mimetype": "text/x-python",
   "name": "python",
   "nbconvert_exporter": "python",
   "pygments_lexer": "ipython3",
   "version": "3.7.7-final"
  }
 },
 "nbformat": 4,
 "nbformat_minor": 4
}